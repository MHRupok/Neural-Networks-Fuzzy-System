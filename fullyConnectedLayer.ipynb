{
 "cells": [
  {
   "cell_type": "markdown",
   "metadata": {},
   "source": [
    "###  Fully Connected Layer (Feedforward+Backprop)\n"
   ]
  },
  {
   "cell_type": "code",
   "execution_count": 1,
   "metadata": {},
   "outputs": [],
   "source": [
    "import numpy as np\n",
    "import matplotlib.pyplot as plt"
   ]
  },
  {
   "cell_type": "code",
   "execution_count": 2,
   "metadata": {},
   "outputs": [],
   "source": [
    "X=np.array([[1, 2], [4, 5], [12, 7], [16, 10], [20, 5], [5, 8]  ])\n",
    "y=np.array([[0,1], [0,1], [1,0], [1,0],  [0,1], [1,0] ])"
   ]
  },
  {
   "cell_type": "code",
   "execution_count": 3,
   "metadata": {},
   "outputs": [
    {
     "name": "stdout",
     "output_type": "stream",
     "text": [
      "[[ 1  2]\n",
      " [ 4  5]\n",
      " [12  7]\n",
      " [16 10]\n",
      " [20  5]\n",
      " [ 5  8]]\n"
     ]
    }
   ],
   "source": [
    "print(X)"
   ]
  },
  {
   "cell_type": "code",
   "execution_count": 4,
   "metadata": {},
   "outputs": [
    {
     "data": {
      "text/plain": [
       "(6, 2)"
      ]
     },
     "execution_count": 4,
     "metadata": {},
     "output_type": "execute_result"
    }
   ],
   "source": [
    "X.shape"
   ]
  },
  {
   "cell_type": "code",
   "execution_count": 5,
   "metadata": {},
   "outputs": [],
   "source": [
    "b=np.array([0.5, 0.6])\n",
    "w=np.array([ [0.1,0.2], [0.3,0.4] ])"
   ]
  },
  {
   "cell_type": "markdown",
   "metadata": {},
   "source": [
    "<b>Softmax</b>\n",
    "$$Let, a=[a_0, a_1, a_2, ..]$$\n",
    "$$S_i=\\frac{e^{a_i}}{\\sum_{k=0}^{N} {e^{a_k}}}$$"
   ]
  },
  {
   "cell_type": "markdown",
   "metadata": {},
   "source": [
    "<b>Task 1: calculate feedforward output</b><br><br>\n",
    "$\\hat{y}=softmax(X.w+b)$\n",
    "\n",
    "Output should look like the following. <br>\n",
    "\n",
    "[[0.401 0.599] <br>\n",
    " [0.269 0.731] <br>\n",
    " [0.119 0.881] <br>\n",
    " [0.063 0.937] <br>\n",
    " [0.069 0.931] <br>\n",
    " [0.198 0.802]]"
   ]
  },
  {
   "cell_type": "code",
   "execution_count": 79,
   "metadata": {},
   "outputs": [
    {
     "name": "stdout",
     "output_type": "stream",
     "text": [
      "[array([0.40131234, 0.59868766]), array([0.26894142, 0.73105858]), array([0.11920292, 0.88079708]), array([0.06297336, 0.93702664]), array([0.06913842, 0.93086158]), array([0.19781611, 0.80218389])]\n"
     ]
    }
   ],
   "source": [
    "def softmax(x):\n",
    "    return np.exp(x) / np.sum(np.exp(x))\n",
    "\n",
    "def calcSoftmax(x):\n",
    "    y=[]\n",
    "    for i in range(len(x)):\n",
    "        m = np.dot(x[i],w)\n",
    "        z = m + b\n",
    "        yp = softmax(z)\n",
    "        y.append(yp)\n",
    "    return y\n",
    "yp=calcSoftmax(X)\n",
    "print(yp)"
   ]
  },
  {
   "cell_type": "markdown",
   "metadata": {},
   "source": [
    "<b>Task 2: calculate log loss</b><br><br> \n",
    "$$L_i = - y_i* \\sum \\log (A_i)$$\n",
    "\\begin{equation*}\n",
    "L =\\frac{1}{N} \\sum_i L_i \n",
    "\\end{equation*}\n",
    "\n",
    "Output should look like the following. <br>\n",
    "Loss: [0.513 0.313 2.127 2.765 0.072 1.62 ] <br>\n",
    "average loss: 1.2351"
   ]
  },
  {
   "cell_type": "code",
   "execution_count": 104,
   "metadata": {},
   "outputs": [
    {
     "name": "stdout",
     "output_type": "stream",
     "text": [
      "[array([-0.        ,  0.51301525]), array([-0.        ,  0.31326169]), array([ 2.12692801, -0.        ]), array([ 2.76504356, -0.        ]), array([-0.        ,  0.07164469]), array([ 1.62041741, -0.        ])]\n"
     ]
    }
   ],
   "source": [
    "#your code goes here.\n",
    "\n",
    "def calcLoss():\n",
    "    loss =[]\n",
    "    LI = 0\n",
    "    for i in range(len(y)):\n",
    "        Li = -(y[i])*(np.log(yp[i]))\n",
    "        loss.append(Li)\n",
    "    #print(LI/len(X))\n",
    "    return loss\n",
    "loss = calcLoss()\n",
    "print(loss)"
   ]
  },
  {
   "cell_type": "markdown",
   "metadata": {},
   "source": [
    "<b>Task 3: calculate gradient</b>\n",
    "\n",
    "$$dz=\\hat{y}-y$$ \n",
    "$$dw=\\frac{1}{N} ( X^T.dz )$$   \n",
    "$$db=\\frac{1}{N} \\sum dz $$ \n",
    "\n",
    "Dimension check: y-yh= (2xN).(NX2)=(2x2) \n",
    "\n",
    "dw should look like below, <br>\n",
    "[[-4.452,  4.452], <br>\n",
    "[-3.243,  3.243]])\n",
    "\n",
    "db should look like below<br>\n",
    "[[-0.313,  0.313]]"
   ]
  },
  {
   "cell_type": "code",
   "execution_count": 120,
   "metadata": {},
   "outputs": [
    {
     "name": "stdout",
     "output_type": "stream",
     "text": [
      "[[-4.45217737  4.45217737]\n",
      " [-3.2433822   3.2433822 ]]\n"
     ]
    }
   ],
   "source": [
    "#your code goes here.\n",
    "dz = yp-y\n",
    "\n",
    "dw = (1/len(X))*np.dot(X.T,dz)\n",
    "\n",
    "print(dw)"
   ]
  },
  {
   "cell_type": "code",
   "execution_count": null,
   "metadata": {},
   "outputs": [],
   "source": []
  }
 ],
 "metadata": {
  "kernelspec": {
   "display_name": "Python 3",
   "language": "python",
   "name": "python3"
  },
  "language_info": {
   "codemirror_mode": {
    "name": "ipython",
    "version": 3
   },
   "file_extension": ".py",
   "mimetype": "text/x-python",
   "name": "python",
   "nbconvert_exporter": "python",
   "pygments_lexer": "ipython3",
   "version": "3.7.4"
  }
 },
 "nbformat": 4,
 "nbformat_minor": 2
}
